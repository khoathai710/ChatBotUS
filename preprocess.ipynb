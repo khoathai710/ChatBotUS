{
 "cells": [
  {
   "cell_type": "code",
   "execution_count": 1,
   "metadata": {},
   "outputs": [],
   "source": [
    "import fitz  # PyMuPDF\n",
    "\n",
    "def extract_text_from_pdf(pdf_path):\n",
    "    try:\n",
    "        # Mở tệp PDF\n",
    "        pdf_document = fitz.open(pdf_path)\n",
    "        text = \"\"\n",
    "        total_pages = len(pdf_document)\n",
    "\n",
    "        # Lặp qua từng trang và trích xuất nội dung\n",
    "        for page_num in range(total_pages):\n",
    "            page = pdf_document[page_num]\n",
    "            text += page.get_text()  # Lấy text của trang\n",
    "\n",
    "        pdf_document.close()\n",
    "        return text\n",
    "    except Exception as e:\n",
    "        print(\"Error while extracting text:\", e)\n",
    "\n",
    "stsv = extract_text_from_pdf('data/STSV-2024-ONLINE.pdf')"
   ]
  },
  {
   "cell_type": "code",
   "execution_count": 4,
   "metadata": {},
   "outputs": [
    {
     "name": "stdout",
     "output_type": "stream",
     "text": [
      "TRƯỜNG ĐẠI HỌC KHOA HỌC TỰ NHIÊN\n",
      "ĐẠI HỌC QUỐC GIA THÀNH PHỐ HỒ CHÍ MINH\n",
      "MỤC LỤC\n",
      "Trang\n",
      "Nội dung\n",
      "Tổng \n"
     ]
    }
   ],
   "source": [
    "print(stsv[:100])"
   ]
  },
  {
   "cell_type": "code",
   "execution_count": 7,
   "metadata": {},
   "outputs": [],
   "source": [
    "import re\n",
    "\n",
    "stsv = re.sub('\\n\\d+','',stsv)\n",
    "\n",
    "stsv = re.sub(r'\\n([a-z])',r'\\1',stsv)\n",
    "\n",
    "stsv = re.sub(r'\\n\\s*\\n','\\n',stsv)\n",
    "\n",
    "stsv = re.sub(r'\\n\\+ (\\d+)', r':cộng \\1', stsv)\n",
    "\n",
    "stsv = re.sub(r'\\n\\- (\\d+)', r':trừ \\1', stsv)\n",
    "\n",
    "stsv = re.sub(r'\\.(\\d+)\\.','',stsv)\n",
    "\n"
   ]
  },
  {
   "cell_type": "code",
   "execution_count": 9,
   "metadata": {},
   "outputs": [],
   "source": [
    "with open('data/stsv.txt','w') as f:\n",
    "  f.write(stsv)"
   ]
  }
 ],
 "metadata": {
  "kernelspec": {
   "display_name": "venv",
   "language": "python",
   "name": "python3"
  },
  "language_info": {
   "codemirror_mode": {
    "name": "ipython",
    "version": 3
   },
   "file_extension": ".py",
   "mimetype": "text/x-python",
   "name": "python",
   "nbconvert_exporter": "python",
   "pygments_lexer": "ipython3",
   "version": "3.11.9"
  }
 },
 "nbformat": 4,
 "nbformat_minor": 2
}
